{
 "cells": [
  {
   "cell_type": "markdown",
   "id": "db4b50f0",
   "metadata": {},
   "source": [
    "# Лабораторная работа №3\n",
    "## Выполнил студент группы БВТ2005 Иванов Никола"
   ]
  },
  {
   "cell_type": "markdown",
   "id": "annual-symbol",
   "metadata": {},
   "source": [
    "### Оглавление\n",
    "1. [Задание 1](#Задание-№1)\n",
    "2. [Задание 2](#Задание-№2)\n",
    "4. [Вывод](#Вывод)"
   ]
  },
  {
   "cell_type": "markdown",
   "id": "independent-spirit",
   "metadata": {},
   "source": [
    "> Дополнительные модули, использованные при выполнение лабораторной"
   ]
  },
  {
   "cell_type": "code",
   "execution_count": 1,
   "id": "4839be2b",
   "metadata": {},
   "outputs": [],
   "source": [
    "# Необходим при замере скорости выполнения кода\n",
    "from datetime import datetime as t\n",
    "# Нужен для создания словаря в алг. Бойера-Мура\n",
    "from collections import defaultdict"
   ]
  },
  {
   "cell_type": "markdown",
   "id": "inclusive-motorcycle",
   "metadata": {},
   "source": [
    "### Задание №1\n",
    "Реализовать методы поиска подстроки в строке. Добавить возможность ввода строки и подстроки с клавиатуры. Предусмотреть возможность существования пробела. Реализовать возможность выбора опции чувствительности или нечувствительности к регистру. Оценить время работы каждого алгоритма поиска и сравнить его со временем работы стандартной функции поиска, используемой в выбранном языке программирования."
   ]
  },
  {
   "cell_type": "markdown",
   "id": "interracial-communication",
   "metadata": {},
   "source": [
    "#### Алгоритм Кнута-Морриса-Пратта"
   ]
  },
  {
   "cell_type": "code",
   "execution_count": 2,
   "id": "presidential-level",
   "metadata": {
    "scrolled": true
   },
   "outputs": [
    {
     "name": "stdout",
     "output_type": "stream",
     "text": [
      "Введите строку: Behaviour gave thoughts joy contrasted living judgment only morning unable endeavor doubtful. Determine collecting appear add narrow incommode companions answer living entire unknown. Wondered addition spot continued only defer time praise. Decisively feet visit excited raillery calling neglected tore begin outlived intention into resolving shade. Cordially object arise offered lady quit fulfilled returned savings against and shade mind message them. \n",
      "arise\n",
      "чувствительность ? нет\n",
      " индекс начала:  367\n",
      "Duration: 0:00:00\n"
     ]
    }
   ],
   "source": [
    "txt = input('Введите строку: ')\n",
    "sub_txt = input('')\n",
    "\n",
    "sens = input('чувствительность ? ')\n",
    "if (sens == \"нет\"):\n",
    "    txt = txt.lower()\n",
    "    sub_txt = sub_txt.lower()\n",
    "\n",
    "def prefix_function(text):\n",
    "    n = len(text)\n",
    "    pi = [0] * n  \n",
    "    for i in range(1, n):\n",
    "        j = pi[i-1]\n",
    "        while j > 0 and text[j] != text[i]:\n",
    "            j = pi[j-1]\n",
    "        if text[i] == text[j]:\n",
    "            j += 1\n",
    "        pi[i] = j\n",
    "    return pi\n",
    "\n",
    "\n",
    "def kmp_search(text, sub_text, start_index=0):\n",
    "    j = 0  \n",
    "    pi = prefix_function(sub_text)  \n",
    "    for i in range(start_index, len(text)):\n",
    "        while j > 0 and text[i] != sub_text[j]:\n",
    "            j = pi[j-1]\n",
    "        if text[i] == sub_text[j]:\n",
    "            j += 1\n",
    "        if j >= len(sub_text):\n",
    "            return i - j + 1\n",
    "    return None\n",
    "\n",
    "start_time = t.now()\n",
    "print(' индекс начала: ', kmp_search(txt, sub_txt, 0))\n",
    "\n",
    "end_time = t.now()\n",
    "print('Duration: {}'.format(end_time - start_time))"
   ]
  },
  {
   "cell_type": "markdown",
   "id": "downtown-option",
   "metadata": {},
   "source": [
    "# Упрощенный алгоритм Бойера-Мура"
   ]
  },
  {
   "cell_type": "code",
   "execution_count": 3,
   "id": "respective-reggae",
   "metadata": {},
   "outputs": [
    {
     "name": "stdout",
     "output_type": "stream",
     "text": [
      "Введите строку: Behaviour gave thoughts joy contrasted living judgment only morning unable endeavor doubtful. Determine collecting appear add narrow incommode companions answer living entire unknown. Wondered addition spot continued only defer time praise. Decisively feet visit excited raillery calling neglected tore begin outlived intention into resolving shade. Cordially object arise offered lady quit fulfilled returned savings against and shade mind message them. \n",
      "поиск: arise\n",
      "чувствительность ?: нет\n",
      "{'s': 1, 'i': 2, 'r': 3, 'a': 4, 'e': 5, '*': 5}\n",
      "Подстрока найдена по индексу: 367\n",
      "Duration: 0:00:00.000998\n"
     ]
    }
   ],
   "source": [
    "txt = input('Введите строку: ')\n",
    "sub_txt = input('поиск: ')\n",
    "\n",
    "sens = input('чувствительность ?: ')\n",
    "if (sens == \"нет\") :\n",
    "    txt = txt.lower()\n",
    "    sub_txt = sub_txt.lower()\n",
    "\n",
    "start_time = t.now()\n",
    "\n",
    "S = set()                # уникальные символы в образе\n",
    "M = len(sub_txt)         # число символов в образе\n",
    "d = {}                   # словарь смещений\n",
    "\n",
    "for i in range(M - 2, -1, -1): \n",
    "    if sub_txt[i] not in S: \n",
    "        d[sub_txt[i]] = M - i - 1\n",
    "        S.add(sub_txt[i])\n",
    "\n",
    "if sub_txt[M - 1] not in S:  \n",
    "    d[sub_txt[M - 1]] = M\n",
    "\n",
    "d['*'] = M  \n",
    "\n",
    "print(d)\n",
    "\n",
    "N = len(txt)\n",
    "if N >= M:\n",
    "    i = M - 1  \n",
    "    while (i < N):\n",
    "        k = 0\n",
    "        j = 0\n",
    "        broke = False\n",
    "        for j in range(M - 1, -1, -1):\n",
    "            if txt[i - k] != sub_txt[j]:\n",
    "        \n",
    "                if j == M - 1:\n",
    "                    off = d[txt[i]] if d.get(txt[i], False) else d['*']  \n",
    "                    \n",
    "                else:\n",
    "                    off = d[sub_txt[j]]  \n",
    "                    \n",
    "                i += off  \n",
    "                broke = True \n",
    "                break\n",
    "            k += 1  \n",
    "        if not broke:  \n",
    "            print(f\"Подстрока найдена по индексу: {i - k + 1}\")\n",
    "            break\n",
    "    else:\n",
    "        print(\" не найдено\")\n",
    "else:\n",
    "    print(\"Подстрока не найдена\") \n",
    "\n",
    "end_time = t.now()\n",
    "print('Duration: {}'.format(end_time - start_time))"
   ]
  },
  {
   "cell_type": "markdown",
   "id": "hybrid-memorial",
   "metadata": {},
   "source": [
    "### Задание №2\n",
    "Написать программу, определяющую, является ли данное\n",
    "расположение «решаемым», то есть можно ли из него за конечное число\n",
    "шагов перейти к правильному. Если это возможно, то необходимо найти хотя\n",
    "бы одно решение - последовательность движений, после которой числа будут\n",
    "расположены в правильном порядке.\n",
    "#### Входные данные: массив чисел, представляющий собой расстановку в\n",
    "Порядке «слева направо, сверху вниз». Число 0 обозначает пустое поле.\n",
    "Например, массив [1, 2, 3, 4, 5, 6, 7, 8, 9, 10, 11, 12, 13, 14, 15, 0] представляет\n",
    "собой «решенную» позицию элементов.\n",
    "#### Выходные данные: если решения нет, то функция должна вернуть\n",
    "Пустой массив []. Если решение есть, то необходимо представить решение —\n",
    "для каждого шага записывается номер передвигаемого на данном шаге\n",
    "элемента. "
   ]
  },
  {
   "cell_type": "code",
   "execution_count": 4,
   "id": "eleven-generic",
   "metadata": {},
   "outputs": [
    {
     "name": "stdout",
     "output_type": "stream",
     "text": [
      "  1  2  3  4\n",
      "  5  6  7  8\n",
      " 13  9 11 12\n",
      " 10 14 15  0\n",
      "\n",
      "[15, 14, 10, 13, 9, 10, 14, 15]\n"
     ]
    }
   ],
   "source": [
    "from queue import PriorityQueue\n",
    "\n",
    "N = 4\n",
    "\n",
    "def moves(position):\n",
    "    blank = position.index(0) \n",
    "    i, j = divmod(blank, N) \n",
    "    offsets = []\n",
    "    if i > 0: offsets.append(-N)     #  вниз\n",
    "    if i < N - 1: offsets.append(N)  #  вверх\n",
    "    if j > 0: offsets.append(-1)     #  вправо\n",
    "    if j < N - 1: offsets.append(1)  #  влево\n",
    "    for offset in offsets:\n",
    "        swap = blank + offset\n",
    "        yield tuple(position[swap] if x==blank else position[blank] if x==swap else position[x] for x in range(N*N))\n",
    "\n",
    "def parity(permutation):\n",
    "    seen, cycles = set(), 0 \n",
    "    for i in permutation:\n",
    "        if i not in seen:\n",
    "            cycles += 1\n",
    "            while i not in seen:\n",
    "                seen.add(i)\n",
    "                i = permutation[i]\n",
    "    return (cycles + len(permutation)) % 2\n",
    "\n",
    "\n",
    "class Position:\n",
    "    \n",
    "    def __init__(self, position, start_distance):\n",
    "        self.position = position\n",
    "        self.start_distance = start_distance\n",
    "\n",
    "    def __lt__(self, other):\n",
    "        return self.start_distance < other.start_distance\n",
    "    \n",
    "    def __str__(self):\n",
    "        return '\\n'.join((N*'{:3}').format(*[i%(N*N) for i in self.position[i:]]) for i in range(0, N*N, N))\n",
    "\n",
    "SOLVED = (1, 2, 3, 4, 5, 6, 7, 8, 9, 10, 11, 12, 13, 14, 15, 0)\n",
    "start = [1, 2, 3, 4, 5, 6, 7, 8, 13, 9, 11, 12, 10, 14, 15, 0]\n",
    "\n",
    "if parity(start) == 0:\n",
    "    print('Задачу решить нельзя')\n",
    "else:\n",
    "    start = tuple(start) \n",
    "    p = Position(start, 0) \n",
    "    print(p) \n",
    "    print()\n",
    "\n",
    "    candidates = PriorityQueue() # конструктор для очереди с приоритетом\n",
    "    candidates.put(p)\n",
    "\n",
    "    # посещ. поз.\n",
    "    visited = set([p])\n",
    "\n",
    "    came_from = {p.position: None} # словарь \n",
    "    \n",
    "    while p.position != SOLVED:\n",
    "        # Извлекаем из очереди позицию с наименьшим приоритетом\n",
    "        p = candidates.get()\n",
    "        # Кладем в очередь все соседние позиции. Повторяем не вытащим конечную позицию из очереди\n",
    "        for k in moves(p.position):\n",
    "            if k not in visited:\n",
    "                candidates.put(Position(k, p.start_distance + 1))\n",
    "                came_from[k] = p\n",
    "                visited.add(k)\n",
    "\n",
    "    path = []\n",
    "    prev = p\n",
    "    while p.position != start:\n",
    "        # Запоминаем откуда ход\n",
    "        p = came_from[p.position]\n",
    "        number = p.position[prev.position.index(0)]\n",
    "        path.append(number)\n",
    "        prev = p\n",
    "    path.reverse()\n",
    "\n",
    "    print(path)"
   ]
  }
 ],
 "metadata": {
  "kernelspec": {
   "display_name": "Python 3 (ipykernel)",
   "language": "python",
   "name": "python3"
  },
  "language_info": {
   "codemirror_mode": {
    "name": "ipython",
    "version": 3
   },
   "file_extension": ".py",
   "mimetype": "text/x-python",
   "name": "python",
   "nbconvert_exporter": "python",
   "pygments_lexer": "ipython3",
   "version": "3.9.7"
  }
 },
 "nbformat": 4,
 "nbformat_minor": 5
}
