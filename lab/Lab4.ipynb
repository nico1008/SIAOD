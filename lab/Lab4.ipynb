{
 "cells": [
  {
   "cell_type": "markdown",
   "id": "fifteen-sailing",
   "metadata": {},
   "source": [
    "# Лабораторная работа №4\n",
    "## Выполнил студент БВТ2005 Иванов Никола"
   ]
  },
  {
   "cell_type": "markdown",
   "id": "arctic-stocks",
   "metadata": {},
   "source": [
    "Реализовать следующие структуры данных:\n",
    "  \n",
    "● <b> Стек (stack): </b>  \n",
    "Операции для стека: \n",
    "<i> инициализация, проверка на пустоту, добавление нового элемента в начало, извлечение элемента из начала;  </i>  \n",
    "  \n",
    "● <b> Дек (двусторонняя очередь, deque):  </b>  \n",
    "Операции для дека: \n",
    "<i> инициализация, проверка на пустоту, добавление нового элемента в начало, добавление нового элемента в конец, извлечение элемента из начала, извлечение элемента из конца. </i>  \n",
    "  \n",
    "<i> Разработать программу обработки данных, содержащихся в заранее подготовленном txt-файле, в соответствии с заданиями, применив указанную в задании структуру данных. Результат работы программы вывести на экран и сохранить в отдельном txt-файле. </i>"
   ]
  },
  {
   "cell_type": "code",
   "execution_count": 1,
   "id": "8ca7db3c",
   "metadata": {},
   "outputs": [],
   "source": [
    "import random\n",
    "\n",
    "class LinkedNode:\n",
    "    def __init__(self, value=None):\n",
    "        self.value = value\n",
    "        self.right = None\n",
    "        self.left = None"
   ]
  },
  {
   "cell_type": "code",
   "execution_count": 2,
   "id": "4ab7c7f6",
   "metadata": {},
   "outputs": [],
   "source": [
    "class Stack:\n",
    "    \n",
    "    def __init__(self):\n",
    "        self.head = LinkedNode()\n",
    "        self.size = 0\n",
    "\n",
    "    def is_empty(self):\n",
    "        return self.size == 0\n",
    "      \n",
    "    def push(self, value):\n",
    "        if self.size > 0:\n",
    "            node = LinkedNode(value)\n",
    "            node.right = self.head\n",
    "            self.head = node\n",
    "        else:\n",
    "            self.head.value = value\n",
    "        self.size += 1\n",
    "        \n",
    "    def pop(self):\n",
    "        \n",
    "        if self.is_empty():\n",
    "            raise Exception(\"нечего извлекать\")\n",
    "            \n",
    "        remove = self.head\n",
    "        \n",
    "        if self.size > 1:\n",
    "            self.head = remove.right\n",
    "            \n",
    "        self.size -= 1\n",
    "        return remove.value\n",
    "       \n",
    "    def peek(self):\n",
    "        if self.is_empty():\n",
    "            raise Exception(\"Нет элементов\")\n",
    "        return self.head.value\n",
    "       \n",
    "    def __len__(self):\n",
    "        return self.size\n",
    "\n",
    "    def reverse(self):\n",
    "        current = self.head\n",
    "        prev = None\n",
    "        next = None\n",
    "\n",
    "        while current is not None:\n",
    "            next = current.right\n",
    "            current.right = prev\n",
    "            prev = current\n",
    "            current = next\n",
    "\n",
    "        self.head = prev"
   ]
  },
  {
   "cell_type": "code",
   "execution_count": 3,
   "id": "4e630278",
   "metadata": {},
   "outputs": [],
   "source": [
    "class Deque:\n",
    "    def __init__(self):\n",
    "        self.head = LinkedNode()\n",
    "        self.tail = self.head\n",
    "        self.size = 0\n",
    "    \n",
    "    def is_empty(self):\n",
    "        return self.size == 0\n",
    "\n",
    "    def push_left(self, value):\n",
    "        if self.size > 0:\n",
    "            node = LinkedNode(value)\n",
    "            node.right = self.tail\n",
    "            self.tail.left = node\n",
    "            self.tail = node\n",
    "        else:\n",
    "            self.tail.value = value\n",
    "        self.size += 1\n",
    "\n",
    "    def push(self, value):\n",
    "        if self.size > 0:\n",
    "            node = LinkedNode(value)\n",
    "            node.left = self.head\n",
    "            self.head.right = node\n",
    "            self.head = node\n",
    "        else:\n",
    "            self.head.value = value\n",
    "        self.size += 1\n",
    "    \n",
    "    def pop_left(self):\n",
    "        if self.is_empty():\n",
    "            raise Exception(\" \")\n",
    "        remove = self.tail\n",
    "        if self.size > 1:\n",
    "            self.tail = remove.right\n",
    "        self.size -= 1\n",
    "        return remove.value\n",
    "    \n",
    "    def pop(self):\n",
    "        if self.is_empty():\n",
    "            raise Exception(\" \")\n",
    "        remove = self.head\n",
    "        if self.size > 1:\n",
    "            self.head = remove.left\n",
    "        self.size -= 1\n",
    "        return remove.value\n",
    "    \n",
    "    def peek(self):\n",
    "        if self.is_empty():\n",
    "            raise Exception(\" \")\n",
    "        return self.head.value\n",
    "    \n",
    "    def peek_left(self):\n",
    "        if self.is_empty():\n",
    "            raise Exception(\" \")\n",
    "        return self.tail.value\n",
    "\n",
    "    def __len__(self):\n",
    "        return self.size"
   ]
  },
  {
   "cell_type": "markdown",
   "id": "5d7edb08",
   "metadata": {
    "scrolled": true
   },
   "source": [
    "### Задание №1\n",
    "Отсортировать строки файла, содержащие названия книг, в алфавитном порядке с использованием двух деков."
   ]
  },
  {
   "cell_type": "code",
   "execution_count": 9,
   "id": "17702ade",
   "metadata": {
    "scrolled": true
   },
   "outputs": [
    {
     "name": "stdout",
     "output_type": "stream",
     "text": [
      "A Scanner Darkly by Philip K. \n",
      "\n",
      "A Time to Kill by John Grisham. \n",
      "\n",
      "Absalom, Absalom! \n",
      "\n",
      "East of Eden by John Steinbeck.\n",
      "\n",
      "Moab is my Washpot by Stephen Fry.\n",
      "The House of Mirth by Edith Wharton. \n",
      "\n",
      "The Sun Also Rises by Ernest Hemingway. \n",
      "\n",
      "Vile Bodies by Evelyn Waugh. \n",
      "\n"
     ]
    }
   ],
   "source": [
    "def sort_books():\n",
    "    with open('forsen.txt', 'r') as books:\n",
    "\n",
    "        names = Deque()\n",
    "        sorted_names = Deque()\n",
    "\n",
    "        for line in books:\n",
    "            names.push(line)\n",
    "\n",
    "        while not names.is_empty():\n",
    "            \n",
    "            arr = names.pop()\n",
    "            \n",
    "            while not sorted_names.is_empty() and sorted_names.peek() < arr:\n",
    "                names.push_left(sorted_names.pop())\n",
    "\n",
    "            sorted_names.push(arr)\n",
    "            \n",
    "        while not sorted_names.is_empty():\n",
    "            print(sorted_names.pop())\n",
    "sort_books()"
   ]
  },
  {
   "cell_type": "markdown",
   "id": "49fbd2a0",
   "metadata": {},
   "source": [
    "### Задание №2\n",
    "Дек содержит последовательность символов для шифровки сообщений. Дан текстовый файл, содержащий зашифрованное сообщение. Пользуясь деком, расшифровать текст. \n",
    "Известно, что при шифровке каждый символ сообщения заменялся следующим за ним в деке по часовой стрелке через один."
   ]
  },
  {
   "cell_type": "code",
   "execution_count": 14,
   "id": "81cab7a8",
   "metadata": {
    "scrolled": true
   },
   "outputs": [
    {
     "name": "stdout",
     "output_type": "stream",
     "text": [
      "abcdefghijklmnopqrstuvwxyz\n",
      "i want to encrypt this message\n",
      "h vzms sn dmbqxos sghr ldrrzfd\n"
     ]
    }
   ],
   "source": [
    "import random\n",
    "\n",
    "alphabet = 'abcdefghijklmnopqrstuvwxyz'\n",
    "print(alphabet)\n",
    "\n",
    "keyRing = Deque()\n",
    "for letter in alphabet:\n",
    "    keyRing.push(letter)\n",
    "\n",
    "\n",
    "def encode_char(c):\n",
    "    for i in range(len(keyRing)):\n",
    "        x = keyRing.pop_left()\n",
    "        if x == c:\n",
    "            keyRing.push(x)\n",
    "            val = keyRing.pop_left()\n",
    "            keyRing.push(val)\n",
    "            return val\n",
    "        keyRing.push(x)\n",
    "\n",
    "\n",
    "def decode_char(c):\n",
    "    for i in range(len(keyRing)):\n",
    "        x = keyRing.pop()\n",
    "        if x == c:\n",
    "            keyRing.push_left(x)\n",
    "            val = keyRing.pop()\n",
    "            keyRing.push_left(val)\n",
    "            return val\n",
    "        keyRing.push_left(x)\n",
    "\n",
    "x = open('forsen2.txt','r')\n",
    "text=x\n",
    "\n",
    "encoded = ''\n",
    "for letter in text:\n",
    "    if encoded_letter := encode_char(letter):\n",
    "        encoded += encoded_letter\n",
    "    else:\n",
    "        encoded += letter\n",
    "\n",
    "print(encoded)\n",
    "\n",
    "decoded = ''\n",
    "for letter in encoded:\n",
    "    if decoded_letter := decode_char(letter):\n",
    "        decoded += decoded_letter\n",
    "    else:\n",
    "        decoded += letter\n",
    "print(decoded)"
   ]
  },
  {
   "cell_type": "markdown",
   "id": "c0894f47",
   "metadata": {},
   "source": [
    "### Задание №3\n",
    "Даны три стержня и n дисков различного размера. Диски можно надевать на стержни, образуя из них башни. Перенести n дисков со стержня А на стержень С, сохранив их первоначальный порядок. При переносе дисков необходимо соблюдать следующие правила:\n",
    "- на каждом шаге со стержня на стержень переносить только один диск;\n",
    "- диск нельзя помещать на диск меньшего размера;\n",
    "- для промежуточного хранения можно использовать стержень В.\n",
    "Реализовать алгоритм, используя три стека вместо стержней А, В, С. Информация о дисках хранится в исходном файле."
   ]
  },
  {
   "cell_type": "code",
   "execution_count": 22,
   "id": "9e91a9d4",
   "metadata": {},
   "outputs": [
    {
     "name": "stdout",
     "output_type": "stream",
     "text": [
      "1\n",
      "2\n",
      "3\n",
      "4\n",
      "5\n",
      "6\n"
     ]
    }
   ],
   "source": [
    "\n",
    "A = Stack()\n",
    "B = Stack()\n",
    "C = Stack()\n",
    "\n",
    "disks = 6\n",
    "\n",
    "for i in range(disks, 0, -1):\n",
    "    A.push(i)\n",
    "\n",
    "def move(a, b):\n",
    "    if len(a) == 0 and len(b) > 0:\n",
    "        a.push(b.pop())\n",
    "    elif len(a) > 0 and len(b) == 0:\n",
    "        b.push(a.pop())\n",
    "    elif a.peek() > b.peek():\n",
    "        a.push(b.pop())\n",
    "    else:\n",
    "        b.push(a.pop())\n",
    "        \n",
    "def task(A,B,C):\n",
    "    if disks % 2 == 0:\n",
    "        while len(C) != disks:\n",
    "            move(A, B)\n",
    "            move(A, C)\n",
    "            move(B, C)\n",
    "      \n",
    "    else:\n",
    "        while len(C) != disks:\n",
    "            move(A, C)\n",
    "            move(A, B)\n",
    "            move(C, B)\n",
    "            move(A, C)\n",
    "            move(B, A)\n",
    "            move(B, C)\n",
    "            move(A, C)\n",
    "\n",
    "    while not C.is_empty():\n",
    "        print(C.pop())\n",
    "task(A,B,C)"
   ]
  },
  {
   "cell_type": "markdown",
   "id": "e5b0be17",
   "metadata": {},
   "source": [
    "### Задание №4\n",
    "Дан текстовый файл с программой на алгоритмическом языке. За один просмотр файла проверить баланс круглых скобок в тексте, используя стек."
   ]
  },
  {
   "cell_type": "code",
   "execution_count": 23,
   "id": "5b1df60a",
   "metadata": {},
   "outputs": [
    {
     "name": "stdout",
     "output_type": "stream",
     "text": [
      "False\n"
     ]
    }
   ],
   "source": [
    "def check_brackets(string):\n",
    "    bracket_stack = Stack()\n",
    "    for i in string:\n",
    "        if i == '(':\n",
    "            bracket_stack.push(i)\n",
    "        elif i == ')':\n",
    "\n",
    "            if bracket_stack.is_empty():\n",
    "                return False\n",
    "            bracket_stack.pop()\n",
    "            \n",
    "    return bracket_stack.is_empty()\n",
    "\n",
    "print(check_brackets('()())(()(()())(())(()(())()'))\n"
   ]
  },
  {
   "cell_type": "markdown",
   "id": "c44cdd6b",
   "metadata": {},
   "source": [
    "### Задание №5\n",
    "Дан текстовый файл с программой на алгоритмическом языке. За один просмотр файла проверить баланс квадратных скобок в тексте, используя дек."
   ]
  },
  {
   "cell_type": "code",
   "execution_count": 20,
   "id": "36b8f400",
   "metadata": {},
   "outputs": [
    {
     "name": "stdout",
     "output_type": "stream",
     "text": [
      "True\n"
     ]
    }
   ],
   "source": [
    "def check_square_brackets(string):\n",
    "    bracket_stack = Deque()\n",
    "    for i in string:\n",
    "        if i == '[':\n",
    "            bracket_stack.push(i)\n",
    "        elif i == ']':\n",
    "            if bracket_stack.is_empty():\n",
    "                return False\n",
    "            bracket_stack.pop()\n",
    "    return bracket_stack.is_empty()\n",
    "\n",
    "print(check_square_brackets('[[][[][[[[][]][[]]]]]]'))\n"
   ]
  },
  {
   "cell_type": "markdown",
   "id": "59d13dc7",
   "metadata": {},
   "source": [
    "### Задание №6\n",
    "Дан файл из символов. Используя стек, за один просмотр файла напечатать сначала все цифры, затем все буквы, и, наконец, все остальные символы, сохраняя исходный порядок в каждой группе символов."
   ]
  },
  {
   "cell_type": "code",
   "execution_count": 27,
   "id": "297e36c2",
   "metadata": {},
   "outputs": [
    {
     "name": "stdout",
     "output_type": "stream",
     "text": [
      "1500ThestandardLoremIpsumpassageusedsincethes    ,    \n"
     ]
    }
   ],
   "source": [
    "def separate():\n",
    "    text = 'The standard Lorem Ipsum passage, used since the 1500s'\n",
    "\n",
    "    letters = Stack()\n",
    "    digits = Stack()\n",
    "    others = Stack()\n",
    "\n",
    "    for c in text:\n",
    "        if c.isalpha():\n",
    "            letters.push(c)\n",
    "        elif c.isdigit():\n",
    "            digits.push(c)\n",
    "        else:\n",
    "            others.push(c)\n",
    "\n",
    "    ntext = ''\n",
    "\n",
    "    letters.reverse()\n",
    "    digits.reverse()\n",
    "    others.reverse()\n",
    "    \n",
    "    while not digits.is_empty():\n",
    "        ntext += digits.pop()\n",
    "\n",
    "    while not letters.is_empty():\n",
    "        ntext += letters.pop()\n",
    "\n",
    "    while not others.is_empty():\n",
    "        ntext += others.pop()\n",
    "\n",
    "    print(ntext)\n",
    "    \n",
    "separate()"
   ]
  },
  {
   "cell_type": "markdown",
   "id": "973f68bd",
   "metadata": {},
   "source": [
    "### Задание №7\n",
    "Дан файл из целых чисел. Используя дек, за один просмотр файла напечатать сначала все отрицательные числа, затем все положительные числа, сохраняя исходный порядок в каждой группе."
   ]
  },
  {
   "cell_type": "code",
   "execution_count": 30,
   "id": "c56fad66",
   "metadata": {},
   "outputs": [
    {
     "name": "stdout",
     "output_type": "stream",
     "text": [
      "[-40, 41, 46, -63, -96, -68, 38, 68, 93, 37, -31, 18, -37, 90, -8, 96, 19, 77, -7, 18]\n",
      "-34\n",
      "-9\n",
      "-69\n",
      "-23\n",
      "-67\n",
      "-90\n",
      "-43\n",
      "-97\n",
      "-28\n",
      "-97\n",
      "-29\n",
      "-99\n",
      "-12\n",
      "-66\n",
      "85\n",
      "78\n",
      "19\n",
      "69\n",
      "83\n",
      "45\n"
     ]
    }
   ],
   "source": [
    "\n",
    "print([random.randint(-100, 100) for i in range(20)])\n",
    "\n",
    "nums = Deque()\n",
    "\n",
    "for n in numbers:\n",
    "    if n < 0:\n",
    " \n",
    "        nums.push_left(n)\n",
    "    else:\n",
    "        nums.push(n)\n",
    "\n",
    "while not deque.is_empty():\n",
    "    x = nums.pop_left()\n",
    "    if x < 0:\n",
    "        nums.push(x)\n",
    "    else:\n",
    "        nums.push_left(x)\n",
    "        break\n",
    "\n",
    "while not deque.is_empty():\n",
    "    x = nums.pop()\n",
    "    if x < 0:\n",
    "        print(x)\n",
    "    else:\n",
    "        nums.push(x)\n",
    "        break\n",
    "while not nums.is_empty():\n",
    "    print(nums.pop_left())"
   ]
  },
  {
   "cell_type": "markdown",
   "id": "b9228191",
   "metadata": {},
   "source": [
    "### Задание №8\n",
    "Дан текстовый файл. Используя стек, сформировать новый текстовый файл, содержащий строки исходного файла, записанные в обратном порядке: первая строка становится последней, вторая – предпоследней и т.д."
   ]
  },
  {
   "cell_type": "code",
   "execution_count": 35,
   "id": "981fbdfe",
   "metadata": {},
   "outputs": [
    {
     "name": "stdout",
     "output_type": "stream",
     "text": [
      "Absalom, Absalom!\n",
      "A Time to Kill by John Grisham.\n",
      "The House of Mirth by Edith Wharton.\n",
      "East of Eden by John Steinbeck.\n",
      "The Sun Also Rises by Ernest Hemingway.\n",
      "Vile Bodies by Evelyn Waugh.\n",
      "A Scanner Darkly by Philip K.\n",
      "Moab is my Washpot by Stephen Fry.\n",
      "\n",
      "Moab is my Washpot by Stephen Fry.\n",
      "A Scanner Darkly by Philip K.\n",
      "Vile Bodies by Evelyn Waugh.\n",
      "The Sun Also Rises by Ernest Hemingway.\n",
      "East of Eden by John Steinbeck.\n",
      "The House of Mirth by Edith Wharton.\n",
      "A Time to Kill by John Grisham.\n",
      "Absalom, Absalom!\n"
     ]
    }
   ],
   "source": [
    "def rev():\n",
    "    with open('forsen.txt', 'r') as books:\n",
    "        stack = Stack()\n",
    "        \n",
    "        for line in books:\n",
    "            line = line.strip()\n",
    "            print(line)\n",
    "            stack.push(line)\n",
    "            \n",
    "        print()\n",
    "        while not stack.is_empty():\n",
    "            print(stack.pop())\n",
    "rev()"
   ]
  },
  {
   "cell_type": "markdown",
   "id": "rental-jerusalem",
   "metadata": {},
   "source": [
    "### Вывод\n"
   ]
  },
  {
   "cell_type": "markdown",
   "id": "0c2b8899",
   "metadata": {},
   "source": []
  }
 ],
 "metadata": {
  "kernelspec": {
   "display_name": "Python 3 (ipykernel)",
   "language": "python",
   "name": "python3"
  },
  "language_info": {
   "codemirror_mode": {
    "name": "ipython",
    "version": 3
   },
   "file_extension": ".py",
   "mimetype": "text/x-python",
   "name": "python",
   "nbconvert_exporter": "python",
   "pygments_lexer": "ipython3",
   "version": "3.9.7"
  }
 },
 "nbformat": 4,
 "nbformat_minor": 5
}
