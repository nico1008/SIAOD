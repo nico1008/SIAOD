{
 "cells": [
  {
   "cell_type": "markdown",
   "metadata": {
    "id": "WPvB9TcMmKA6"
   },
   "source": [
    "# Лабораторная работа №5\n",
    "# Рекурсия. Фракталы."
   ]
  },
  {
   "cell_type": "markdown",
   "metadata": {
    "id": "96Gi_LEvmSVH"
   },
   "source": [
    "## Выполнил студент БВТ2005 Иванов Никола\n",
    "***"
   ]
  },
  {
   "cell_type": "markdown",
   "metadata": {
    "id": "4clYOyb0mbEv"
   },
   "source": [
    "### Задание:\n",
    "Реализовать генерацию заданного типа фрактала с применением рекурсивных функций.\n",
    "\n",
    "\n",
    "Добавить возможность задания глубины фрактала. \n",
    "\n",
    "\n",
    "Оценить глубину рекурсии. \n",
    "\n",
    "\n",
    "Построить таблицу зависимости времени построения от глубины фрактала."
   ]
  },
  {
   "cell_type": "markdown",
   "metadata": {
    "id": "wDXHbUmMmhRL"
   },
   "source": [
    "### Список фракталов:\n",
    "\n",
    "Кривая Коха\n",
    "| Кривая Гильберта\n",
    "| Кривая Серпинского\n",
    "| Салфетка Серпинского\n",
    "| Ковер Серпинского\n",
    "| Дерево Пифагора "
   ]
  },
  {
   "cell_type": "markdown",
   "metadata": {
    "id": "Wggfn8l7nG72"
   },
   "source": [
    "### Выполнение:"
   ]
  },
  {
   "cell_type": "code",
   "execution_count": 3,
   "metadata": {
    "id": "681a95mZnOSa"
   },
   "outputs": [],
   "source": [
    "import turtle\n",
    "import datetime\n",
    "import math\n",
    "\n",
    "\n",
    "\n",
    "def create_fractal(func, max_n, doneTurtle = False, step = 200):\n",
    "    turtle.speed(10000000)\n",
    "    \n",
    "    for i in range(1, max_n + 1):\n",
    "        turtle.reset()\n",
    "        turtle.speed(10000000)\n",
    "        start_time = datetime.datetime.now()\n",
    "        func(step, i)\n",
    "        total_time = (datetime.datetime.now() - start_time).total_seconds()\n",
    "        print(f\"Глубина: {i} - {round(total_time, 1)}s\")\n",
    "    if doneTurtle: turtle.done()"
   ]
  },
  {
   "cell_type": "markdown",
   "metadata": {},
   "source": [
    "# Кривая Коха"
   ]
  },
  {
   "cell_type": "code",
   "execution_count": 4,
   "metadata": {
    "scrolled": false
   },
   "outputs": [
    {
     "name": "stdout",
     "output_type": "stream",
     "text": [
      "Глубина: 1 - 0.1s\n",
      "Глубина: 2 - 0.5s\n",
      "Глубина: 3 - 2.1s\n",
      "Глубина: 4 - 7.9s\n",
      "Глубина: 5 - 31.6s\n"
     ]
    }
   ],
   "source": [
    "def koch_fractal(step, n):\n",
    "    if n == 0: \n",
    "        turtle.forward(step)\n",
    "        return\n",
    "    \n",
    "    def call_next(): \n",
    "        koch_fractal(step / 3, n - 1)\n",
    "   \n",
    "    call_next()\n",
    "    turtle.left(60)\n",
    "    call_next()\n",
    "    turtle.right(120)\n",
    "    call_next()\n",
    "    turtle.left(60)\n",
    "    call_next()    \n",
    "\n",
    "create_fractal(koch_fractal, 5)\n",
    " \n",
    "# https://imgur.com/RqKzxEx    снежинка\n"
   ]
  },
  {
   "cell_type": "markdown",
   "metadata": {},
   "source": [
    "# Кривая Гильберта"
   ]
  },
  {
   "cell_type": "code",
   "execution_count": 5,
   "metadata": {
    "scrolled": false
   },
   "outputs": [
    {
     "name": "stdout",
     "output_type": "stream",
     "text": [
      "Глубина: 1 - 0.1s\n",
      "Глубина: 2 - 0.5s\n",
      "Глубина: 3 - 2.3s\n",
      "Глубина: 4 - 9.2s\n",
      "Глубина: 5 - 36.7s\n"
     ]
    }
   ],
   "source": [
    "def hilbert_fractal(step, n, dir = 1):\n",
    "    if n == 0: return\n",
    "    \n",
    "    turtle.left(90 * dir)\n",
    "    hilbert_fractal(step, n - 1, -dir)\n",
    "    turtle.forward(step)\n",
    "    \n",
    "    turtle.right(90 * dir)\n",
    "    hilbert_fractal(step, n - 1, dir)\n",
    "    turtle.forward(step)\n",
    "    \n",
    "    hilbert_fractal(step, n - 1, dir)\n",
    "    turtle.right(90 * dir)\n",
    "    turtle.forward(step)\n",
    "    \n",
    "    hilbert_fractal(step, n - 1, -dir)\n",
    "    turtle.left(90 * dir)\n",
    "\n",
    "create_fractal(hilbert_fractal, 5, step=20)\n",
    "\n",
    "# https://imgur.com/6laYcIY         квадраты "
   ]
  },
  {
   "cell_type": "markdown",
   "metadata": {},
   "source": [
    "# Салфетка Серпинского"
   ]
  },
  {
   "cell_type": "code",
   "execution_count": 6,
   "metadata": {},
   "outputs": [
    {
     "name": "stdout",
     "output_type": "stream",
     "text": [
      "Глубина: 1 - 0.2s\n",
      "Глубина: 2 - 0.3s\n",
      "Глубина: 3 - 0.8s\n",
      "Глубина: 4 - 2.2s\n",
      "Глубина: 5 - 6.3s\n",
      "Глубина: 6 - 18.8s\n"
     ]
    }
   ],
   "source": [
    "# Салфетка Серпинского\n",
    "def sierpinski_triangle_fractal(step, n, dir = 1):\n",
    "    \n",
    "    if n == 0: return\n",
    "    \n",
    "    turtle.right(120)\n",
    "    turtle.forward(step)\n",
    "    sierpinski_triangle_fractal(step / 2, n - 1, -1)\n",
    "    turtle.forward(step)\n",
    "    turtle.right(120 * dir)\n",
    "    turtle.forward(step)\n",
    "    \n",
    "    if dir < 0: sierpinski_triangle_fractal(step / 2, n - 1, -1)   \n",
    "    turtle.forward(step)\n",
    "    turtle.right(120 * dir)\n",
    "    turtle.forward(step)\n",
    "    \n",
    "    if dir < 0: sierpinski_triangle_fractal(step / 2, n - 1, -1)\n",
    "    turtle.forward(step)\n",
    "    turtle.right(120)\n",
    "    \n",
    "create_fractal(sierpinski_triangle_fractal, 6)\n",
    "\n",
    "#   https://imgur.com/TQYqIey    треугольные треугольники "
   ]
  },
  {
   "cell_type": "markdown",
   "metadata": {},
   "source": [
    "# Ковер Серпинского\n"
   ]
  },
  {
   "cell_type": "code",
   "execution_count": 7,
   "metadata": {},
   "outputs": [
    {
     "name": "stdout",
     "output_type": "stream",
     "text": [
      "Глубина: 1 - 0.3s\n",
      "Глубина: 2 - 2.5s\n",
      "Глубина: 3 - 20.0s\n"
     ]
    }
   ],
   "source": [
    "def sierpinski_quad_fractal(step, n):\n",
    "    \n",
    "    if n == 0: return\n",
    "    if n == 1: turtle.begin_fill()\n",
    "        \n",
    "    for _ in range(4):\n",
    "        \n",
    "        for _ in range(2):\n",
    "            sierpinski_quad_fractal(step / 3, n - 1)\n",
    "            turtle.forward(step)\n",
    "            \n",
    "        turtle.forward(step)\n",
    "        turtle.right(90)\n",
    "        \n",
    "    if n == 1: turtle.end_fill()\n",
    "\n",
    "create_fractal(sierpinski_quad_fractal, 3)\n",
    "\n",
    "#https://imgur.com/a/GhueZZl        черные квадраты "
   ]
  },
  {
   "cell_type": "markdown",
   "metadata": {},
   "source": [
    "# Дерево Пифагора"
   ]
  },
  {
   "cell_type": "code",
   "execution_count": 8,
   "metadata": {
    "scrolled": false
   },
   "outputs": [
    {
     "name": "stdout",
     "output_type": "stream",
     "text": [
      "Глубина: 1 - 0.1s\n",
      "Глубина: 2 - 0.4s\n",
      "Глубина: 3 - 0.9s\n",
      "Глубина: 4 - 1.9s\n",
      "Глубина: 5 - 3.8s\n",
      "Глубина: 6 - 7.8s\n",
      "Глубина: 7 - 15.6s\n",
      "Глубина: 8 - 31.5s\n"
     ]
    }
   ],
   "source": [
    "# Дерево Пифагора\n",
    "def pythagoras_tree_iter(step, n, dir = 1):\n",
    "    \n",
    "    if n == 0: return\n",
    "    next_step = math.sqrt((step ** 2) / 2) \n",
    "    turtle.forward(step)\n",
    "    \n",
    "    \n",
    "    if n > 1:\n",
    "        turtle.left(45 * dir)\n",
    "        pythagoras_tree_iter(next_step, n - 1, dir)\n",
    "        turtle.left(135 * dir)\n",
    "        turtle.forward(step)\n",
    "        turtle.left(45 * dir)\n",
    "        pythagoras_tree_iter(next_step, n - 1, -dir)\n",
    "        turtle.right(45 * dir)\n",
    "        turtle.forward(step)\n",
    "    else:\n",
    "        turtle.right(90 * dir)\n",
    "        turtle.forward(step)\n",
    "        turtle.right(90 * dir)\n",
    "        turtle.forward(step)\n",
    "    turtle.right(90 * dir)\n",
    "    turtle.forward(step)\n",
    "\n",
    "\n",
    "def pythagoras_tree(step, n):\n",
    "    turtle.left(90)\n",
    "    pythagoras_tree_iter(step, n)\n",
    "\n",
    "\n",
    "create_fractal(pythagoras_tree, 8)\n",
    "\n",
    "#https://imgur.com/Es7MLL2    дерево "
   ]
  }
 ],
 "metadata": {
  "colab": {
   "collapsed_sections": [],
   "name": "Lab5.ipynb",
   "provenance": []
  },
  "kernelspec": {
   "display_name": "Python 3 (ipykernel)",
   "language": "python",
   "name": "python3"
  },
  "language_info": {
   "codemirror_mode": {
    "name": "ipython",
    "version": 3
   },
   "file_extension": ".py",
   "mimetype": "text/x-python",
   "name": "python",
   "nbconvert_exporter": "python",
   "pygments_lexer": "ipython3",
   "version": "3.9.7"
  }
 },
 "nbformat": 4,
 "nbformat_minor": 1
}
