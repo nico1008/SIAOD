{
 "cells": [
  {
   "cell_type": "markdown",
   "id": "fifteen-sailing",
   "metadata": {},
   "source": [
    "# Лабораторная работа №2\n",
    "## Выполнил студент группы БВТ2005 Иванов Никола"
   ]
  },
  {
   "cell_type": "markdown",
   "id": "particular-syndicate",
   "metadata": {},
   "source": [
    "### Оглавление\n",
    "1. [Задание 1](#Задание-№1)\n",
    "2. [Задание 2](#Задание-№2)\n",
    "3. [Задание 3](#Задание-№3)"
   ]
  },
  {
   "cell_type": "markdown",
   "id": "arctic-stocks",
   "metadata": {},
   "source": [
    "### Задание №1\n",
    "Реализовать методы поиска в соответствии с заданием. Организовать генерацию начального набора случайных данных. Для всех вариантов добавить реализацию добавления, поиска и удаления элементов. Оценить время работы каждого алгоритма поиска и сравнить его со временем работы стандартной функции поиска, используемой в выбранном языке программирования."
   ]
  },
  {
   "cell_type": "code",
   "execution_count": 1,
   "id": "caring-truck",
   "metadata": {
    "scrolled": true
   },
   "outputs": [],
   "source": [
    "#Бинарный поиск\n",
    "class BinarySearch:\n",
    "    def __init__(self):\n",
    "        self.data = []\n",
    "\n",
    "    def search(self, value):\n",
    "        left = 0\n",
    "        right = len(self.data)\n",
    "\n",
    "        while left < right:\n",
    "            middle = (left + right) // 2     #суть- деление массива по середине \n",
    "            if self.data[middle][0] < value:\n",
    "                left = middle + 1\n",
    "            else:\n",
    "                right = middle\n",
    "        \n",
    "        return left\n",
    "\n",
    "    def __setitem__(self, key, value):\n",
    "        index = self.search(key)\n",
    "        if index < len(self.data) and self.data[index][0] == key:\n",
    "            self.data[index] = (key, value)\n",
    "        else:\n",
    "            self.data.insert(index, (key, value))\n",
    "\n",
    "    def __delitem__(self, key):\n",
    "        index = self.search(key)\n",
    "        self.data.pop(index)\n",
    "\n",
    "    def __getitem__(self, key):\n",
    "        index = self.search(key)\n",
    "        foundKey, val = self.data[index]\n",
    "        if foundKey == key:\n",
    "            return val\n",
    "        else:\n",
    "            return None"
   ]
  },
  {
   "cell_type": "code",
   "execution_count": 2,
   "id": "75af3ea8",
   "metadata": {},
   "outputs": [],
   "source": [
    "#Бинарное дерево\n",
    "class Node:\n",
    "    def __init__(self, key):\n",
    "        self.key = key\n",
    "        self.left = None\n",
    "        self.right = None\n",
    "    \n",
    "    def inorder(root):\n",
    "        if root is not None:\n",
    "            inorder(root.left)\n",
    "            print(root.key, end=\" \")\n",
    "            inorder(root.right)\n",
    "\n",
    "    def insert(node, key):\n",
    "        if node is None:\n",
    "            return Node(key)\n",
    "\n",
    "        if key < node.key:\n",
    "            node.left = insert(node.left, key)\n",
    "        else:\n",
    "            node.right = insert(node.right, key)\n",
    "            \n",
    "        return node\n",
    "    \n",
    "    def minValueNode(node):\n",
    "        current = node\n",
    "        while(current.left is not None):\n",
    "            current = current.left\n",
    "        return current\n",
    "    \n",
    "    def deleteNode(root, key):\n",
    "        if root is None:\n",
    "            return root\n",
    "        \n",
    "        if key < root.key:\n",
    "            root.left = deleteNode(root.left, key)\n",
    "        elif(key > root.key):\n",
    "            root.right = deleteNode(root.right, key)\n",
    "        else:\n",
    "            if root.left is None:\n",
    "                temp = root.right\n",
    "                root = None\n",
    "                return temp\n",
    "            elif root.right is None:\n",
    "                temp = root.left\n",
    "                root = None\n",
    "                return temp\n",
    "            temp = minValueNode(root.right) \n",
    "            root.key = temp.key\n",
    "            root.right = deleteNode(root.right, temp.key)\n",
    "        return root"
   ]
  },
  {
   "cell_type": "code",
   "execution_count": 3,
   "id": "abe4b0b4",
   "metadata": {},
   "outputs": [],
   "source": [
    "#Фибоначчиев поиск\n",
    "fib_c = [0, 1]\n",
    "def fibonnaci(n):\n",
    "    if len(fib_c) - 1 < n:\n",
    "        fib_c.append(fibonnaci(n - 1) + fibonnaci(n - 2))\n",
    "    return fib_c[n]\n",
    "\n",
    "class FibonacciSearch(BinarySearch):\n",
    "    \n",
    "    def search(self, key):  \n",
    "        m = 0 \n",
    "        while fibonnaci(m) < len(self.data): \n",
    "            m += 1\n",
    "        offset = 0\n",
    "        while fibonnaci(m) > 1:\n",
    "            i = min(offset + fibonnaci(m - 1), len(self.data) - 1)\n",
    "            if key > self.data[i][0]:\n",
    "                offset = i\n",
    "                m -= 1\n",
    "            elif key < self.data[i][0]:\n",
    "                m -=2\n",
    "            else:\n",
    "                return i\n",
    "        if len(self.data) and self.data[offset][0] < key:\n",
    "            return offset + 1\n",
    "        return 0"
   ]
  },
  {
   "cell_type": "code",
   "execution_count": 4,
   "id": "34ec2894",
   "metadata": {},
   "outputs": [],
   "source": [
    "#Интерполяционный  поиск\n",
    "def nearMid(arr, low, high, val):\n",
    "    return low + (high - low) * (val - arr[low][0]) // (arr[high][0] - arr[low][0])\n",
    "    \n",
    "class InterpolateSearch(BinarySearch):\n",
    "    def searchINT(self, value):\n",
    "        size_of_list = len(self.data) - 1\n",
    "\n",
    "        first = 0\n",
    "        last = size_of_list\n",
    "\n",
    "        while first <= last:\n",
    "            middle = nearMid(self.data, first, last, value)\n",
    "\n",
    "            if middle > last or middle < first:\n",
    "                return None\n",
    "\n",
    "            if self.data[middle][0] == value:\n",
    "                return middle\n",
    "\n",
    "            if value > self.data[middle][0]:\n",
    "                first = middle + 1\n",
    "            else:\n",
    "                last = middle - 1\n",
    "\n",
    "        if first > last:\n",
    "            return None"
   ]
  },
  {
   "cell_type": "markdown",
   "id": "cf1c78e7",
   "metadata": {},
   "source": [
    "# Сравнение времени работы "
   ]
  },
  {
   "cell_type": "code",
   "execution_count": 5,
   "id": "520f0b57",
   "metadata": {},
   "outputs": [
    {
     "name": "stdout",
     "output_type": "stream",
     "text": [
      "4780\n",
      "Бинарный поиск:  0.00395965576171875\n",
      "4780\n",
      "Поиск Фибонначи:  0.004022121429443359\n",
      "4780\n",
      "Интерполяционный поиск:  0.004983186721801758\n"
     ]
    }
   ],
   "source": [
    "import time\n",
    "\n",
    "binary = BinarySearch()\n",
    "fibon = FibonacciSearch()\n",
    "interpolate = InterpolateSearch()\n",
    "arr = []\n",
    "for x in range(100000):\n",
    "    binary[x] = x + 245\n",
    "    fibon[x] = x + 245\n",
    "    interpolate[x] = x + 245\n",
    "    arr.append(x + 245)\n",
    "\n",
    "\n",
    "binary_start = time.time()\n",
    "print(binary[4535])\n",
    "binary = BinarySearch()\n",
    "binary_end = time.time()\n",
    "print(\"Бинарный поиск: \", (binary_end - binary_start))\n",
    "\n",
    "fib_start = time.time()\n",
    "print(fibon[4535])\n",
    "fibon = FibonacciSearch()\n",
    "fib_end = time.time()  \n",
    "print(\"Поиск Фибонначи: \", (fib_end - fib_start))\n",
    "\n",
    "int_start = time.time()\n",
    "print(interpolate[interpolate.searchINT(4535)])\n",
    "interpolate = InterpolateSearch()\n",
    "int_end = time.time()  \n",
    "print(\"Интерполяционный поиск: \", (int_end - int_start))\n",
    "\n"
   ]
  },
  {
   "cell_type": "markdown",
   "id": "maritime-conversation",
   "metadata": {},
   "source": [
    "### Задание №2\n",
    "Написать соответствующие решения для заданных методов."
   ]
  },
  {
   "cell_type": "markdown",
   "id": "29a5644a",
   "metadata": {},
   "source": [
    "# Простое рехэширование"
   ]
  },
  {
   "cell_type": "code",
   "execution_count": 6,
   "id": "97f9de37",
   "metadata": {},
   "outputs": [],
   "source": [
    "class HashMap:\n",
    "    def __init__(self):\n",
    "        self.size = 0\n",
    "        self.data = []\n",
    "        self._resize()\n",
    "    \n",
    "    def _hash(self, key, i):\n",
    "        return (hash(key) + i) % len(self.data)\n",
    "        \n",
    "    def _find(self, key):\n",
    "        i = 0;\n",
    "        index = self._hash(key, i);\n",
    "        while self.data[index] is not None and self.data[index]!= key:\n",
    "            i += 1\n",
    "            index = self._hash(key, i);\n",
    "        return index;\n",
    "    \n",
    "    def _resize(self):\n",
    "        temp = self.data\n",
    "        self.data = [None] * (2*len(self.data) + 1)\n",
    "        for item in temp:\n",
    "            if item is not None:\n",
    "                self.data[self._find(item[0])] = item\n",
    "    \n",
    "    def __setitem(self, key, value):\n",
    "        if self.size + 1 > len(self.data) // 2:\n",
    "            self._resize()\n",
    "        index = self._find(key)\n",
    "        if self.data[index] is None:  \n",
    "            self.size += 1\n",
    "        self.data[index] = (key, value)\n",
    "    \n",
    "    def __getitem__(self, key):\n",
    "        index = self._find(key)\n",
    "        if self.data[index] is not None:\n",
    "            return self.data[index][1]\n",
    "        raise KeyError()"
   ]
  },
  {
   "cell_type": "markdown",
   "id": "288224cf",
   "metadata": {},
   "source": [
    "# Рехеширование с помощью псевдослучайных чисел"
   ]
  },
  {
   "cell_type": "code",
   "execution_count": 7,
   "id": "b4b80e3a",
   "metadata": {
    "scrolled": true
   },
   "outputs": [],
   "source": [
    "class RandomHashMap(HashMap):\n",
    "    _rand_c = 3455\n",
    "    \n",
    "    def _rand(self, i):\n",
    "        if len(self._rand_c) - 1 < i:\n",
    "            self._rand_c.append(self._rand(i - 1))\n",
    "        return (123456789 * self._rand_c[i] + 987654321) % 47456\n",
    "        \n",
    "    def _hash(self, key, i):\n",
    "        return (hash(key) + self._rand(i)) % len(self.data)"
   ]
  },
  {
   "cell_type": "markdown",
   "id": "430bb71b",
   "metadata": {},
   "source": [
    "# Метод цепочек"
   ]
  },
  {
   "cell_type": "code",
   "execution_count": 8,
   "id": "1addc092",
   "metadata": {},
   "outputs": [],
   "source": [
    "class ChainMap:\n",
    "    def __init__(self):\n",
    "        self.size = 0\n",
    "        self.data = []\n",
    "        self._resize()\n",
    "    \n",
    "    def _hash(self, key):\n",
    "        return hash(key) % len(self.data)\n",
    "    \n",
    "    def _insert(self, index, item):\n",
    "        if self.data[index] is None:\n",
    "            self.data[index] = [item]\n",
    "            return True\n",
    "        else:\n",
    "            for i, item_ in enumerate(self.data[index]):\n",
    "                if item_[0] == item[0]:\n",
    "                    self.data[index][i] = item\n",
    "                    return False\n",
    "            self.data[index].append(item)\n",
    "            return True\n",
    "    \n",
    "    def _resize(self):\n",
    "        temp = self.data\n",
    "        self.data = [None] * (2*len(self.data) + 1)\n",
    "        for bucket in temp:\n",
    "            if bucket is not None:\n",
    "                for key, value in bucket:\n",
    "                    self._insert(self._hash(key), (key, value))\n",
    "    \n",
    "    def __setitem__(self, key, value):\n",
    "        if self.size + 1 > len(self.data) // 1.5:\n",
    "            self._resize()\n",
    "        if self._insert(self._hash(key), (key, value)):  \n",
    "            self.size += 1\n",
    "    \n",
    "    def __getitem__(self, key):\n",
    "        index = self._hash(key)\n",
    "        if self.data[index] is not None:\n",
    "            for key_, value in self.data[index]:\n",
    "                if key_ == key:\n",
    "                    return value\n",
    "        raise KeyError()"
   ]
  },
  {
   "cell_type": "markdown",
   "id": "catholic-roots",
   "metadata": {},
   "source": [
    "### Задание №3\n",
    "Расставить на стандартной 64-клеточной шахматной доске 8 ферзей так, чтобы ни один из них не находился под боем другого». Подразумевается, что ферзь бьёт все клетки, расположенные по вертикалям, горизонталям и обеим диагоналям\n",
    "Написать программу,  которая находит хотя бы один способ решения задач.\n"
   ]
  },
  {
   "cell_type": "code",
   "execution_count": 9,
   "id": "09de30c9",
   "metadata": {},
   "outputs": [
    {
     "name": "stdout",
     "output_type": "stream",
     "text": [
      "▢ ▢ ▢ ♔ ▢ ▢ ▢ ▢ \n",
      "▢ ▢ ▢ ▢ ▢ ▢ ▢ ♔ \n",
      "▢ ▢ ▢ ▢ ♔ ▢ ▢ ▢ \n",
      "▢ ▢ ♔ ▢ ▢ ▢ ▢ ▢ \n",
      "♔ ▢ ▢ ▢ ▢ ▢ ▢ ▢ \n",
      "▢ ▢ ▢ ▢ ▢ ▢ ♔ ▢ \n",
      "▢ ♔ ▢ ▢ ▢ ▢ ▢ ▢ \n",
      "▢ ▢ ▢ ▢ ▢ ♔ ▢ ▢ \n"
     ]
    }
   ],
   "source": [
    "import random\n",
    "\n",
    "\n",
    "def conflict(state, col):\n",
    "    row = len(state)\n",
    "    for i in range(row):\n",
    "        if abs(state[i] - col) in (0, row - i):\n",
    "            return True\n",
    "    return False\n",
    "\n",
    "\n",
    "def queens(num=8, state=()):\n",
    "    for pos in range(num):\n",
    "        if not conflict(state, pos):\n",
    "            if len(state) == num - 1:\n",
    "                yield (pos,)\n",
    "            else:\n",
    "                for result in queens(num, state + (pos,)):\n",
    "                    yield (pos,) + result\n",
    "\n",
    "\n",
    "def placequeens(solution):\n",
    "    def line(pos, length=len(solution)):\n",
    "        return '▢ ' * (pos) + '♔ ' + '▢ ' * (length - pos - 1)\n",
    "\n",
    "    for pos in solution:\n",
    "        print(line(pos))\n",
    "\n",
    "\n",
    "placequeens(random.choice(list(queens())))\n"
   ]
  },
  {
   "cell_type": "code",
   "execution_count": null,
   "id": "d8c16117",
   "metadata": {},
   "outputs": [],
   "source": []
  }
 ],
 "metadata": {
  "kernelspec": {
   "display_name": "Python 3 (ipykernel)",
   "language": "python",
   "name": "python3"
  },
  "language_info": {
   "codemirror_mode": {
    "name": "ipython",
    "version": 3
   },
   "file_extension": ".py",
   "mimetype": "text/x-python",
   "name": "python",
   "nbconvert_exporter": "python",
   "pygments_lexer": "ipython3",
   "version": "3.9.7"
  }
 },
 "nbformat": 4,
 "nbformat_minor": 5
}
