{
 "cells": [
  {
   "cell_type": "markdown",
   "id": "fifteen-sailing",
   "metadata": {},
   "source": [
    "\n",
    "## Выполнил студент группы БВТ2005 Иванов Никола"
   ]
  },
  {
   "cell_type": "markdown",
   "id": "particular-syndicate",
   "metadata": {},
   "source": [
    "### Оглавление\n",
    "1. [Задание 1](#Задание-№1)\n",
    "2. [Задание 2](#Задание-№2)\n",
    "3. [Задание 3](#Задание-№3)\n",
    "4. [Вывод](#Вывод)"
   ]
  },
  {
   "cell_type": "markdown",
   "id": "arctic-stocks",
   "metadata": {},
   "source": [
    "### Задание №1\n",
    "<i> Массив A состоит из целых положительных чисел длин отрезков. Составьте из трех отрезков такой треугольник, чтобы его периметр был максимально возможным. Если невозможно составить треугольник с положительной площадью функция возвращает 0.</i>"
   ]
  },
  {
   "cell_type": "code",
   "execution_count": 1,
   "id": "caring-truck",
   "metadata": {
    "scrolled": true
   },
   "outputs": [
    {
     "name": "stdout",
     "output_type": "stream",
     "text": [
      "[2, 7, 2, 8, 6, 4, 3, 10, 9, 1, 10, 7, 2, 3, 8]\n",
      "[10, 10, 9]\n"
     ]
    }
   ],
   "source": [
    "import random\n",
    "\n",
    "def check(a, b, c, per):\n",
    "    if (a >= b + c or c >= a + b or  b >= a + c or per > a + b + c):\n",
    "        return False\n",
    "    return True\n",
    "\n",
    "def MaxPerimetr(variables):\n",
    "    variables.sort(reverse = True)\n",
    "    sides = []\n",
    "    max = 0\n",
    "    for i in range(2, len(variables)):\n",
    "        if check(variables[i - 2], variables[i - 1], variables[i], max):\n",
    "            max = variables[i - 2] + variables[i - 1] + variables[i]\n",
    "            sides = [variables[i - 2], variables[i - 1],variables[i]]\n",
    "    if max == 0:\n",
    "        return max\n",
    "    return sides\n",
    "\n",
    "variables = []\n",
    "for i in range(15):\n",
    "    variables.append(random.randint(1, 10))\n",
    "    \n",
    "print(variables)\n",
    "print(MaxPerimetr(variables))"
   ]
  },
  {
   "cell_type": "markdown",
   "id": "maritime-conversation",
   "metadata": {},
   "source": [
    "### Задание №2\n",
    "Дан массив неотрицательных целых чисел nums. Расположите их в таком порядке, чтобы вместе они образовали максимально возможное число. Замечание: Результат может быть очень большим числом, поэтому представьте его как string, а не integer."
   ]
  },
  {
   "cell_type": "code",
   "execution_count": 14,
   "id": "alert-charm",
   "metadata": {},
   "outputs": [
    {
     "name": "stdout",
     "output_type": "stream",
     "text": [
      "[2, 3, 2, 8, 6, 1, 6, 5, 9, 3]\n",
      "9866533221\n"
     ]
    }
   ],
   "source": [
    "import random\n",
    "\n",
    "def sort_nums(nums):\n",
    "    for i in range(len(nums)):\n",
    "        nums[i] = str(nums[i])\n",
    "        \n",
    "    nums.sort(reverse = True)\n",
    "    newnum = \"\"\n",
    "    \n",
    "    \n",
    "    for i in range(len(nums)):\n",
    "        newnum =newnum+ nums[i]\n",
    "    return newnum\n",
    "\n",
    "nums = []\n",
    "for i in range(10):\n",
    "    nums.append(random.randint(1, 9))\n",
    "\n",
    "print(nums)\n",
    "print(sort_nums(nums))"
   ]
  },
  {
   "cell_type": "markdown",
   "id": "catholic-roots",
   "metadata": {},
   "source": [
    "### Задание №3\n",
    "Дана матрица mat размером m * n, значения целочисленные. Напишите функцию, сортирующую каждую диагональ матрицы по возрастанию и возвращающую получившуюся матрицу."
   ]
  },
  {
   "cell_type": "code",
   "execution_count": 3,
   "id": "french-czech",
   "metadata": {
    "scrolled": false
   },
   "outputs": [
    {
     "name": "stdout",
     "output_type": "stream",
     "text": [
      "4 9 7 5 4\n",
      "2 1 9 4 5\n",
      "5 8 2 6 9\n",
      "3 3 5 6 1\n",
      "4 2 8 5 6\n",
      " \n",
      "1 1 4 5 4\n",
      "2 2 6 7 5\n",
      "3 5 4 9 9\n",
      "2 5 5 6 9\n",
      "4 3 8 8 6\n"
     ]
    }
   ],
   "source": [
    "import random\n",
    "\n",
    "\n",
    "def rand_matrix(m, n, min_lim, max_lim):\n",
    "    matrix = []\n",
    "    for i in range(m):\n",
    "        matrix.append([0] * n)\n",
    "        for j in range(n):\n",
    "            matrix[i][j] = random.randint(min_lim, max_lim)\n",
    "    return matrix\n",
    "\n",
    "\n",
    "def outMatrix(mat):                         #функция печати матрицы  \n",
    "    for line in mat:\n",
    "        x = [str(elem) for elem in line]\n",
    "        print(\" \".join(x))\n",
    "        \n",
    "        \n",
    "def sort_diagonals(mat):\n",
    "    \n",
    "    m, n = len(mat), len(mat[0])\n",
    "    t = [[] for i in range(m+n)]\n",
    "    for i in range(m):\n",
    "        for j in range(n):\n",
    "            t[i - j].append(mat[i][j])\n",
    "    \n",
    "    for line in t:\n",
    "        line.sort(reverse = True)\n",
    "    \n",
    "  \n",
    "    for i in range(m):\n",
    "        for j in range(n):\n",
    "            \n",
    "            mat[i][j] = t[i-j].pop()     #pop -последний элемент\n",
    "    return mat\n",
    "        \n",
    "matrix = rand_matrix(5, 5, 1, 9)\n",
    "outMatrix(matrix)\n",
    "\n",
    "\n",
    "print(\" \")\n",
    "\n",
    "sort_diagonals(matrix)\n",
    "outMatrix(matrix)"
   ]
  },
  {
   "cell_type": "markdown",
   "id": "rental-jerusalem",
   "metadata": {},
   "source": [
    "### Вывод\n"
   ]
  },
  {
   "cell_type": "code",
   "execution_count": 4,
   "id": "19e7f6a9",
   "metadata": {
    "scrolled": true
   },
   "outputs": [
    {
     "name": "stdout",
     "output_type": "stream",
     "text": [
      "Я выполнил задания\n"
     ]
    }
   ],
   "source": [
    "print(\"Я выполнил задания\") "
   ]
  },
  {
   "cell_type": "code",
   "execution_count": null,
   "id": "0e464a39",
   "metadata": {},
   "outputs": [],
   "source": []
  }
 ],
 "metadata": {
  "kernelspec": {
   "display_name": "Python 3 (ipykernel)",
   "language": "python",
   "name": "python3"
  },
  "language_info": {
   "codemirror_mode": {
    "name": "ipython",
    "version": 3
   },
   "file_extension": ".py",
   "mimetype": "text/x-python",
   "name": "python",
   "nbconvert_exporter": "python",
   "pygments_lexer": "ipython3",
   "version": "3.9.7"
  }
 },
 "nbformat": 4,
 "nbformat_minor": 5
}
